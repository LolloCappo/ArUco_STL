{
 "cells": [
  {
   "cell_type": "code",
   "execution_count": 21,
   "id": "3608041a-e6c0-49ad-b170-aacc929adf1a",
   "metadata": {},
   "outputs": [],
   "source": [
    "import cv2\n",
    "import numpy as np\n",
    "from stl import mesh\n",
    "\n",
    "def create_aruco_marker(dictionary, marker_id, marker_size=100):\n",
    "    \"\"\"\n",
    "    Create an ArUco marker image.\n",
    "    :param dictionary: ArUco dictionary.\n",
    "    :param marker_id: Marker ID.\n",
    "    :param marker_size: Size of the marker in mm.\n",
    "    :return: Marker image.\n",
    "    \"\"\"\n",
    "    marker_image = cv2.aruco.generateImageMarker(dictionary, marker_id, marker_size)\n",
    "    return marker_image\n",
    "\n",
    "def marker_to_stl(marker_image, output_file, thickness=1.0):\n",
    "    \"\"\"\n",
    "    Convert a 2D marker image (with black parts extruded) to a 3D STL file.\n",
    "    :param marker_image: Binary marker image.\n",
    "    :param output_file: Path to save the STL file.\n",
    "    :param thickness: Thickness of the marker in mm\n",
    "    \"\"\"\n",
    "    rows, cols = marker_image.shape\n",
    "    vertices = []\n",
    "    faces = []\n",
    "\n",
    "    # Create vertices for the black regions (0) of the marker\n",
    "    for y in range(rows):\n",
    "        for x in range(cols):\n",
    "            if marker_image[y, x] == 0:  # Only consider black regions (0)\n",
    "                z0 = 0\n",
    "                z1 = thickness\n",
    "                vertices.extend([\n",
    "                    [x, y, z0],\n",
    "                    [x + 1, y, z0],\n",
    "                    [x, y + 1, z0],\n",
    "                    [x + 1, y + 1, z0],\n",
    "                    [x, y, z1],\n",
    "                    [x + 1, y, z1],\n",
    "                    [x, y + 1, z1],\n",
    "                    [x + 1, y + 1, z1],\n",
    "                ])\n",
    "\n",
    "                base_index = len(vertices) - 8\n",
    "\n",
    "                # Faces of the cube (12 triangles per block)\n",
    "                faces.extend([\n",
    "                    [base_index, base_index + 1, base_index + 2],\n",
    "                    [base_index + 1, base_index + 3, base_index + 2],\n",
    "                    [base_index + 4, base_index + 5, base_index + 6],\n",
    "                    [base_index + 5, base_index + 7, base_index + 6],\n",
    "                    [base_index, base_index + 1, base_index + 4],\n",
    "                    [base_index + 1, base_index + 5, base_index + 4],\n",
    "                    [base_index + 2, base_index + 3, base_index + 6],\n",
    "                    [base_index + 3, base_index + 7, base_index + 6],\n",
    "                    [base_index, base_index + 2, base_index + 4],\n",
    "                    [base_index + 2, base_index + 6, base_index + 4],\n",
    "                    [base_index + 1, base_index + 3, base_index + 5],\n",
    "                    [base_index + 3, base_index + 7, base_index + 5],\n",
    "                ])\n",
    "\n",
    "    # Convert vertices and faces to numpy arrays\n",
    "    vertices = np.array(vertices)\n",
    "    faces = np.array(faces)\n",
    "\n",
    "    # Create the mesh\n",
    "    marker_mesh = mesh.Mesh(np.zeros(faces.shape[0], dtype=mesh.Mesh.dtype))\n",
    "    for i, face in enumerate(faces):\n",
    "        for j in range(3):\n",
    "            marker_mesh.vectors[i][j] = vertices[face[j], :]\n",
    "\n",
    "    # Write to STL file\n",
    "    marker_mesh.save(output_file)\n",
    "    print(f\"STL file saved as: {output_file}\")"
   ]
  },
  {
   "cell_type": "code",
   "execution_count": 25,
   "id": "645914fe-3dd9-4558-a73f-7173694e72de",
   "metadata": {},
   "outputs": [
    {
     "name": "stdout",
     "output_type": "stream",
     "text": [
      "STL file saved as: aruco_marker_0.stl\n"
     ]
    }
   ],
   "source": [
    "# Create a dictionary of ArUco markers\n",
    "aruco_dict = cv2.aruco.getPredefinedDictionary(cv2.aruco.DICT_ARUCO_ORIGINAL)\n",
    "marker_id = 0  # Change this for different markers\n",
    "\n",
    "# Generate a marker\n",
    "marker = create_aruco_marker(aruco_dict, marker_id, marker_size=100)\n",
    "\n",
    "# Display the marker\n",
    "cv2.imshow(\"ArUco Marker\", marker)\n",
    "cv2.waitKey(0)\n",
    "cv2.destroyAllWindows()\n",
    "\n",
    "# Convert the marker to STL\n",
    "output_stl = f\"aruco_marker_{marker_id}.stl\"\n",
    "marker_to_stl(marker, output_stl, thickness=1.0)"
   ]
  },
  {
   "cell_type": "code",
   "execution_count": null,
   "id": "e3c30731-ec0f-4975-9ffd-71f41ec3019b",
   "metadata": {},
   "outputs": [],
   "source": []
  }
 ],
 "metadata": {
  "kernelspec": {
   "display_name": "Python [conda env:base] *",
   "language": "python",
   "name": "conda-base-py"
  },
  "language_info": {
   "codemirror_mode": {
    "name": "ipython",
    "version": 3
   },
   "file_extension": ".py",
   "mimetype": "text/x-python",
   "name": "python",
   "nbconvert_exporter": "python",
   "pygments_lexer": "ipython3",
   "version": "3.12.7"
  }
 },
 "nbformat": 4,
 "nbformat_minor": 5
}
